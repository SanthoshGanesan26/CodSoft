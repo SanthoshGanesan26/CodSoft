{
  "nbformat": 4,
  "nbformat_minor": 0,
  "metadata": {
    "colab": {
      "provenance": []
    },
    "kernelspec": {
      "name": "python3",
      "display_name": "Python 3"
    },
    "language_info": {
      "name": "python"
    }
  },
  "cells": [
    {
      "cell_type": "code",
      "execution_count": 2,
      "metadata": {
        "id": "PyWrtVQkjbZb"
      },
      "outputs": [],
      "source": [
        "import pandas as pd\n",
        "import numpy as np\n",
        "from sklearn.model_selection import train_test_split\n",
        "from sklearn.preprocessing import StandardScaler\n",
        "from sklearn.linear_model import LogisticRegression\n",
        "from sklearn.ensemble import RandomForestClassifier, GradientBoostingClassifier\n",
        "from sklearn.metrics import accuracy_score, classification_report"
      ]
    },
    {
      "cell_type": "code",
      "source": [
        "from google.colab import drive\n",
        "drive.mount('/content/drive')"
      ],
      "metadata": {
        "colab": {
          "base_uri": "https://localhost:8080/"
        },
        "id": "IBz1zj3Nhrcy",
        "outputId": "1871653a-bdca-4bd1-8acc-f60a8f0a93e6"
      },
      "execution_count": 1,
      "outputs": [
        {
          "output_type": "stream",
          "name": "stdout",
          "text": [
            "Mounted at /content/drive\n"
          ]
        }
      ]
    },
    {
      "cell_type": "code",
      "source": [
        "data = pd.read_csv('/content/drive/MyDrive/Datasets/CodSoft/Churn_Modelling.csv')\n",
        "X = data[['CreditScore', 'Age', 'Tenure', 'Balance', 'NumOfProducts', 'HasCrCard', 'IsActiveMember', 'EstimatedSalary']]\n",
        "y = data['Exited']\n",
        "X_train, X_test, y_train, y_test = train_test_split(X, y, test_size=0.2, random_state=42)"
      ],
      "metadata": {
        "id": "hEQnd5lklnlG"
      },
      "execution_count": 3,
      "outputs": []
    },
    {
      "cell_type": "code",
      "source": [
        "scaler = StandardScaler()\n",
        "X_train_scaled = scaler.fit_transform(X_train)\n",
        "X_test_scaled = scaler.transform(X_test)\n",
        "with open('churn_prediction_results.txt', 'w') as f:\n",
        "\n",
        "    f.write('Logistic Regression:\\n')\n",
        "    model_lr = LogisticRegression()\n",
        "    model_lr.fit(X_train_scaled, y_train)\n",
        "    y_pred_lr = model_lr.predict(X_test_scaled)\n",
        "    f.write('Accuracy: {}\\n'.format(accuracy_score(y_test, y_pred_lr)))\n",
        "    f.write('Classification Report:\\n{}\\n'.format(classification_report(y_test, y_pred_lr)))\n",
        "    f.write('Churned (1) vs Not Churned (0) in Test Data:\\n')\n",
        "    f.write(pd.DataFrame({'Exited': y_test}).value_counts().to_string() + '\\n')\n",
        "\n",
        "\n",
        "    f.write('\\nRandom Forest:\\n')\n",
        "    model_rf = RandomForestClassifier()\n",
        "    model_rf.fit(X_train_scaled, y_train)\n",
        "    y_pred_rf = model_rf.predict(X_test_scaled)\n",
        "    f.write('Accuracy: {}\\n'.format(accuracy_score(y_test, y_pred_rf)))\n",
        "    f.write('Classification Report:\\n{}\\n'.format(classification_report(y_test, y_pred_rf)))\n",
        "    f.write('Churned (1) vs Not Churned (0) in Test Data:\\n')\n",
        "    f.write(pd.DataFrame({'Exited': y_test}).value_counts().to_string() + '\\n')\n",
        "\n",
        "    f.write('\\nGradient Boosting:\\n')\n",
        "    model_gb = GradientBoostingClassifier()\n",
        "    model_gb.fit(X_train_scaled, y_train)\n",
        "    y_pred_gb = model_gb.predict(X_test_scaled)\n",
        "    f.write('Accuracy: {}\\n'.format(accuracy_score(y_test, y_pred_gb)))\n",
        "    f.write('Classification Report:\\n{}\\n'.format(classification_report(y_test, y_pred_gb)))\n",
        "    f.write('Churned (1) vs Not Churned (0) in Test Data:\\n')\n",
        "    f.write(pd.DataFrame({'Exited': y_test}).value_counts().to_string() + '\\n')\n"
      ],
      "metadata": {
        "id": "Oi1QCuvlmXDH"
      },
      "execution_count": 4,
      "outputs": []
    },
    {
      "cell_type": "code",
      "source": [
        "prompts = ['Credit Score',\n",
        "            'Age',\n",
        "            'Tenure',\n",
        "            'Balance',\n",
        "            'Number of Products',\n",
        "            'Has Credit Card (1 for Yes, 0 for No)',\n",
        "            'Is Active Member (1 for Yes, 0 for No)',\n",
        "            'Estimated Salary']\n",
        "\n",
        "user_input = []"
      ],
      "metadata": {
        "id": "S5AiYdZmmvI9"
      },
      "execution_count": 5,
      "outputs": []
    },
    {
      "cell_type": "code",
      "source": [
        "for prompt in prompts:\n",
        "    user_input.append(float(input(f'Enter {prompt}: ')))\n",
        "sample_data = np.array([user_input])\n",
        "\n",
        "sample_data_scaled = scaler.transform(sample_data)\n",
        "lr_prediction = model_lr.predict(sample_data_scaled)\n",
        "rf_prediction = model_rf.predict(sample_data_scaled)\n",
        "gb_prediction = model_gb.predict(sample_data_scaled)\n",
        "for i in range(len(sample_data)):\n",
        "    print(f'Customer {i+1}:')\n",
        "    print('Logistic Regression Prediction:', 'Exited' if lr_prediction[i] == 1 else 'Not Exited')\n",
        "    print('Random Forest Prediction:', 'Exited' if rf_prediction[i] == 1 else 'Not Exited')\n",
        "    print('Gradient Boosting Prediction:', 'Exited' if gb_prediction[i] == 1 else 'Not Exited')\n",
        "    print()"
      ],
      "metadata": {
        "colab": {
          "base_uri": "https://localhost:8080/"
        },
        "id": "euLMfvgXmwMU",
        "outputId": "35270a14-08c8-4176-eda1-0451a77ee658"
      },
      "execution_count": 6,
      "outputs": [
        {
          "output_type": "stream",
          "name": "stdout",
          "text": [
            "Enter Credit Score: 10\n",
            "Enter Age: 20\n",
            "Enter Tenure: 5\n",
            "Enter Balance: 5500\n",
            "Enter Number of Products: 3\n",
            "Enter Has Credit Card (1 for Yes, 0 for No): 1\n",
            "Enter Is Active Member (1 for Yes, 0 for No): 0\n",
            "Enter Estimated Salary: 20000\n",
            "Customer 1:\n",
            "Logistic Regression Prediction: Not Exited\n",
            "Random Forest Prediction: Exited\n",
            "Gradient Boosting Prediction: Exited\n",
            "\n"
          ]
        },
        {
          "output_type": "stream",
          "name": "stderr",
          "text": [
            "/usr/local/lib/python3.10/dist-packages/sklearn/base.py:439: UserWarning: X does not have valid feature names, but StandardScaler was fitted with feature names\n",
            "  warnings.warn(\n"
          ]
        }
      ]
    },
    {
      "cell_type": "code",
      "source": [],
      "metadata": {
        "id": "xW8XQ8oviCQx"
      },
      "execution_count": 6,
      "outputs": []
    }
  ]
}