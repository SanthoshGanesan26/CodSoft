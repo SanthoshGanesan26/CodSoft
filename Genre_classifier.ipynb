{
  "nbformat": 4,
  "nbformat_minor": 0,
  "metadata": {
    "colab": {
      "provenance": []
    },
    "kernelspec": {
      "name": "python3",
      "display_name": "Python 3"
    },
    "language_info": {
      "name": "python"
    }
  },
  "cells": [
    {
      "cell_type": "code",
      "execution_count": 2,
      "metadata": {
        "id": "BmYw3a0tYNa-"
      },
      "outputs": [],
      "source": [
        "import pandas as pd\n",
        "import numpy as np\n",
        "from sklearn.feature_extraction.text import TfidfVectorizer\n",
        "from sklearn.multioutput import MultiOutputClassifier\n",
        "from sklearn.naive_bayes import MultinomialNB\n",
        "from sklearn.preprocessing import MultiLabelBinarizer\n",
        "from sklearn.metrics import accuracy_score, precision_score, recall_score, f1_score\n",
        "from tqdm import tqdm\n",
        "import csv"
      ]
    },
    {
      "cell_type": "code",
      "source": [
        "from google.colab import drive\n",
        "drive.mount('/content/drive')"
      ],
      "metadata": {
        "colab": {
          "base_uri": "https://localhost:8080/"
        },
        "id": "VvIlcHekeYJS",
        "outputId": "b7198bc5-b680-4933-efae-69570d4ad3f4"
      },
      "execution_count": null,
      "outputs": [
        {
          "output_type": "stream",
          "name": "stdout",
          "text": [
            "Mounted at /content/drive\n"
          ]
        }
      ]
    },
    {
      "cell_type": "code",
      "source": [
        "genre_list = [ 'action', 'adult', 'adventure', 'animation', 'biography',\n",
        "              'comedy','crime','documentary','family','fantasy',\n",
        "              'game-show','history','horror','music','musical',\n",
        "              \"mystery\",'news','reality-tv','romance','scifi',\n",
        "              'sport','talk-show','thriller','war','western' ]\n",
        "fallback_genre = 'Unknown'"
      ],
      "metadata": {
        "id": "TdU5FKPJZAr8"
      },
      "execution_count": 3,
      "outputs": []
    },
    {
      "cell_type": "code",
      "source": [
        "try:\n",
        "    with tqdm(total=50, desc=\"Loading Train Data\") as pbar:\n",
        "        train_data = pd.read_csv('/content/drive/MyDrive/Datasets/CodSoft/Dataset/train_data.txt', sep=':::',\n",
        "                                         header=None, names=['SerialNumber', 'MOVIE_NAME',\n",
        "                                                      'GENRE', 'MOVIE_PLOT'], engine='python')\n",
        "        pbar.update(500)\n",
        "\n",
        "except Exception as e:\n",
        "  print (f\"Error loading train_data: {e}\")\n",
        "  raise"
      ],
      "metadata": {
        "colab": {
          "base_uri": "https://localhost:8080/"
        },
        "id": "M1R42XuxaEN-",
        "outputId": "e8ac2511-a2c7-4f74-fef4-d85f3a605e28"
      },
      "execution_count": 4,
      "outputs": [
        {
          "output_type": "stream",
          "name": "stderr",
          "text": [
            "Loading Train Data: 500it [00:02, 199.85it/s]\n"
          ]
        }
      ]
    },
    {
      "cell_type": "code",
      "source": [
        "X_train = train_data['MOVIE_PLOT'].astype (str).apply(lambda doc: doc.lower())\n",
        "genre_labels = [genre.split(',') for genre in train_data['GENRE']]\n",
        "mlb = MultiLabelBinarizer()\n",
        "y_train = mlb.fit_transform (genre_labels)"
      ],
      "metadata": {
        "id": "8EOZAZPcdTf0"
      },
      "execution_count": 5,
      "outputs": []
    },
    {
      "cell_type": "code",
      "source": [
        "tfidf_vectorizer = TfidfVectorizer (max_features=5000)"
      ],
      "metadata": {
        "id": "tLe3_Ia6daDt"
      },
      "execution_count": 6,
      "outputs": []
    },
    {
      "cell_type": "code",
      "source": [
        "with tqdm(total=50, desc=\"Vectorizing Training Data\") as pbar:\n",
        "    X_train_tfidf = tfidf_vectorizer.fit_transform(X_train)\n",
        "    pbar.update(50)"
      ],
      "metadata": {
        "colab": {
          "base_uri": "https://localhost:8080/"
        },
        "id": "7erjCkYHdfZK",
        "outputId": "a554fcf3-a51d-45dd-a180-1e863d827074"
      },
      "execution_count": 7,
      "outputs": [
        {
          "output_type": "stream",
          "name": "stderr",
          "text": [
            "Vectorizing Training Data: 100%|██████████| 50/50 [00:11<00:00,  4.50it/s]\n"
          ]
        }
      ]
    },
    {
      "cell_type": "code",
      "source": [
        "with tqdm(total=50, desc=\"Training Model\") as pbar:\n",
        "    naive_bayes = MultinomialNB()\n",
        "    multi_output_classifier = MultiOutputClassifier(naive_bayes)\n",
        "    multi_output_classifier. fit (X_train_tfidf, y_train)\n",
        "    pbar.update(50)"
      ],
      "metadata": {
        "colab": {
          "base_uri": "https://localhost:8080/"
        },
        "id": "oX2wyHRSdlNx",
        "outputId": "e27cf273-c3e2-44b9-900b-5464088174c4"
      },
      "execution_count": 8,
      "outputs": [
        {
          "output_type": "stream",
          "name": "stderr",
          "text": [
            "Training Model: 100%|██████████| 50/50 [00:00<00:00, 57.18it/s]\n"
          ]
        }
      ]
    },
    {
      "cell_type": "code",
      "source": [
        "try:\n",
        "    with tqdm(total=50, desc=\"Loading Test Data\") as pbar:\n",
        "        test_data = pd.read_csv('/content/drive/MyDrive/Datasets/CodSoft/Dataset/test_data.txt', sep=':::',\n",
        "                                header=None, names=['SerialNumber', 'MOVIE_NAME',\n",
        "                                                    'MOVIE_PLOT'], engine='python')\n",
        "        pbar.update(50)\n",
        "except Exception as e:\n",
        "    print (f\"Error loading test_data: {e}\")\n",
        "    raise\n"
      ],
      "metadata": {
        "colab": {
          "base_uri": "https://localhost:8080/"
        },
        "id": "tnGgks6ZdzZH",
        "outputId": "53c68eef-ef0e-45ec-a729-5ceda678319d"
      },
      "execution_count": 9,
      "outputs": [
        {
          "output_type": "stream",
          "name": "stderr",
          "text": [
            "Loading Test Data: 100%|██████████| 50/50 [00:03<00:00, 14.50it/s]\n"
          ]
        }
      ]
    },
    {
      "cell_type": "code",
      "source": [
        "X_test = test_data['MOVIE_PLOT'].astype (str).apply(lambda doc: doc.lower())"
      ],
      "metadata": {
        "id": "mztzuY6Vd4fK"
      },
      "execution_count": 10,
      "outputs": []
    },
    {
      "cell_type": "code",
      "source": [
        "with tqdm(total=50, desc=\"Vectorizing Test Data\") as pbar:\n",
        "    X_test_tfidf = tfidf_vectorizer.transform (X_test)\n",
        "    pbar.update(50)\n"
      ],
      "metadata": {
        "colab": {
          "base_uri": "https://localhost:8080/"
        },
        "id": "XHnnS8Grd8A3",
        "outputId": "9e27c750-4d26-4e3f-ba00-cbf23c2a24f4"
      },
      "execution_count": 11,
      "outputs": [
        {
          "output_type": "stream",
          "name": "stderr",
          "text": [
            "Vectorizing Test Data: 100%|██████████| 50/50 [00:05<00:00,  9.50it/s]\n"
          ]
        }
      ]
    },
    {
      "cell_type": "code",
      "source": [
        "with tqdm(total=50, desc=\"Predicting on Test Data\") as pbar:\n",
        "    y_pred = multi_output_classifier.predict(X_test_tfidf)\n",
        "    pbar.update(50)\n"
      ],
      "metadata": {
        "colab": {
          "base_uri": "https://localhost:8080/"
        },
        "id": "BUu_C5jWeANh",
        "outputId": "4fb0e77b-3d82-414a-cd42-4007c27b79a2"
      },
      "execution_count": 12,
      "outputs": [
        {
          "output_type": "stream",
          "name": "stderr",
          "text": [
            "Predicting on Test Data: 100%|██████████| 50/50 [00:00<00:00, 73.02it/s]\n"
          ]
        }
      ]
    },
    {
      "cell_type": "code",
      "source": [
        "test_movie_names = test_data['MOVIE_NAME']\n",
        "predicted_genres = mlb.inverse_transform (y_pred)\n",
        "test_results = pd.DataFrame({ 'MOVIE_NAME': test_movie_names, 'PREDICTED_GENRES': predicted_genres})\n",
        "test_results[ 'PREDICTED_GENRES'] = test_results[ 'PREDICTED_GENRES'].apply(lambda genres: [fallback_genre] if len(genres) == 0 else genres)\n",
        "\n"
      ],
      "metadata": {
        "id": "6mS2wqXCeEbU"
      },
      "execution_count": 13,
      "outputs": []
    },
    {
      "cell_type": "code",
      "source": [
        "with open(\"movie_genre_model_evaluation.csv\", \"w\", newline='', encoding=\"utf-8\") as output_file:\n",
        "    csv_writer = csv.writer(output_file)\n",
        "    csv_writer.writerow(['MOVIE_NAME', 'PREDICTED_GENRES'])\n",
        "    for _, row in test_results.iterrows():\n",
        "        movie_name = row['MOVIE_NAME']\n",
        "        genre_str = ','.join(row['PREDICTED_GENRES'])\n",
        "        csv_writer.writerow([movie_name, genre_str])\n"
      ],
      "metadata": {
        "id": "nZYU7IMdeqtH"
      },
      "execution_count": 14,
      "outputs": []
    },
    {
      "cell_type": "code",
      "source": [
        "y_train_pred = multi_output_classifier.predict(X_train_tfidf)\n",
        "accuracy=accuracy_score (y_train, y_train_pred)\n",
        "precision = precision_score (y_train, y_train_pred, average='micro')\n",
        "recall = recall_score (y_train, y_train_pred, average='micro')\n",
        "f1 = f1_score (y_train, y_train_pred, average='micro')"
      ],
      "metadata": {
        "id": "eSfy8e2Vezri"
      },
      "execution_count": 15,
      "outputs": []
    },
    {
      "cell_type": "code",
      "source": [
        "metrics = {\n",
        "    \"Accuracy\": accuracy * 100,\n",
        "    \"Precision\": precision,\n",
        "    \"Recall\": recall,\n",
        "    \"F1-score\": f1\n",
        "}"
      ],
      "metadata": {
        "id": "hK3wt43ie3f6"
      },
      "execution_count": 16,
      "outputs": []
    },
    {
      "cell_type": "code",
      "source": [
        "with open(\"movie_genre_model_evaluation.csv\", \"a\", newline='', encoding=\"utf-8\") as output_file:\n",
        "    csv_writer = csv.writer(output_file)\n",
        "    output_file.write(\"\\n\\nModel Evaluation Metrics: \\n\")\n",
        "    for metric, value in metrics.items():\n",
        "        output_file.write(f\"{metric}: {value:.2f}\\n\")\n"
      ],
      "metadata": {
        "id": "tfvpQ5CQe8Ez"
      },
      "execution_count": 17,
      "outputs": []
    },
    {
      "cell_type": "code",
      "source": [
        "print(\"Model evaluation results and metrics have been saved to 'model_evaluation.txt'.\")"
      ],
      "metadata": {
        "colab": {
          "base_uri": "https://localhost:8080/"
        },
        "id": "N2hxtnWNfAwM",
        "outputId": "49b7d2cf-7fdf-44fa-f3af-be67bdd77865"
      },
      "execution_count": 18,
      "outputs": [
        {
          "output_type": "stream",
          "name": "stdout",
          "text": [
            "Model evaluation results and metrics have been saved to 'model_evaluation.txt'.\n"
          ]
        }
      ]
    }
  ]
}